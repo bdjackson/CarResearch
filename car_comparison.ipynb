{
 "metadata": {
  "name": "",
  "signature": "sha256:f5c4d233661ee13ea330da88142d005340acee5fddf18e2166e09807bb50a4ce"
 },
 "nbformat": 3,
 "nbformat_minor": 0,
 "worksheets": [
  {
   "cells": [
    {
     "cell_type": "markdown",
     "metadata": {},
     "source": [
      "# Car comparison\n",
      "This notebook explores a cost comparions between several cars we are considering.\n",
      "The idea is to quantify the total cost given several expected parameters, such as the initial price of the car, the price of gas, and expected driving habits.\n",
      "\n",
      "## Things that still need to be included in the model\n",
      "- Cost of loan (APR and length)\n",
      "- Estimated cost of maintenence\n",
      "- Add more cars to the comparison\n",
      "\n",
      "It would also be nice to make a better estimate of the \"shifting efficiency\" for manual tranmission cars.\n",
      "This parameter is meant to account for for inneficient shifting, which lowers the effective fuel efficiency compared to the EPA estimate.\n",
      "I assume my efficiency will not be so good in a manual tranmission car (at least at first) because of lack of experience."
     ]
    },
    {
     "cell_type": "markdown",
     "metadata": {},
     "source": [
      "## Import the relevant packages, and the cars data frame from a text file"
     ]
    },
    {
     "cell_type": "code",
     "collapsed": false,
     "input": [
      "import pandas"
     ],
     "language": "python",
     "metadata": {},
     "outputs": [],
     "prompt_number": 1
    },
    {
     "cell_type": "code",
     "collapsed": false,
     "input": [
      "cars = pandas.io.parsers.read_csv('cars.txt')\n",
      "test_car_name = cars.iloc[0]['car']\n",
      "test_car_name_comparison = cars.iloc[1]['car']"
     ],
     "language": "python",
     "metadata": {},
     "outputs": [],
     "prompt_number": 2
    },
    {
     "cell_type": "markdown",
     "metadata": {},
     "source": [
      "## Default values for each parameter\n",
      "These are the default values for various parameters used in calculating total cost.\n",
      "All of these values can be specified in the various functions through the `**kw` parameters."
     ]
    },
    {
     "cell_type": "code",
     "collapsed": false,
     "input": [
      "default_values = dict(gas_price = 3.00, ## Default gas price [usd/gal]\n",
      "                      weekday_miles = 22, ## Defaut miles driven / weekday\n",
      "                      weekend_miles = 20, ## Default miles driven / weekend\n",
      "                      vacation_miles = 0, ## Default miles driven on vacation / year\n",
      "                      city_fraction = 0.5, ## Fraction of miles in city conditions\n",
      "                      duration = 5, ## Duration of interest [years]\n",
      "                      shifting_efficiency = 0.9) ## Shifting efficiency for manual transmission (relative to advertised mpg)"
     ],
     "language": "python",
     "metadata": {},
     "outputs": [],
     "prompt_number": 3
    },
    {
     "cell_type": "markdown",
     "metadata": {},
     "source": [
      "## Helper functions"
     ]
    },
    {
     "cell_type": "markdown",
     "metadata": {},
     "source": [
      "### Get car entry from data frame\n",
      "Wraper function to access a row from the data frame by name.\n",
      "The name is not case sensitive, but otherwise needs to be an exact match.\n",
      "Also, there is a function to get a specific attribute for the car of interest."
     ]
    },
    {
     "cell_type": "code",
     "collapsed": false,
     "input": [
      "def get_car(car_name):\n",
      "    return cars[cars['car'].str.lower() == car_name.lower()]\n",
      "\n",
      "def get_attribute(car_entry, attribute):\n",
      "    return car_entry[attribute].iloc[0]\n",
      "\n",
      "def get_car_attribute(car_name, attribute):\n",
      "    return get_attribute(get_car(car_name), attribute)"
     ],
     "language": "python",
     "metadata": {},
     "outputs": [],
     "prompt_number": 4
    },
    {
     "cell_type": "markdown",
     "metadata": {},
     "source": [
      "#### Briefly test"
     ]
    },
    {
     "cell_type": "code",
     "collapsed": false,
     "input": [
      "get_car(test_car_name)"
     ],
     "language": "python",
     "metadata": {},
     "outputs": [
      {
       "html": [
        "<div style=\"max-height:1000px;max-width:1500px;overflow:auto;\">\n",
        "<table border=\"1\" class=\"dataframe\">\n",
        "  <thead>\n",
        "    <tr style=\"text-align: right;\">\n",
        "      <th></th>\n",
        "      <th>car</th>\n",
        "      <th>price</th>\n",
        "      <th>city_mpg</th>\n",
        "      <th>hwy_mpg</th>\n",
        "      <th>trunk_volume</th>\n",
        "      <th>total_cargo</th>\n",
        "    </tr>\n",
        "  </thead>\n",
        "  <tbody>\n",
        "    <tr>\n",
        "      <th>0</th>\n",
        "      <td> Honda Fit LX (manual)</td>\n",
        "      <td> 15650</td>\n",
        "      <td> 29</td>\n",
        "      <td> 37</td>\n",
        "      <td> 16.6</td>\n",
        "      <td> 52.7</td>\n",
        "    </tr>\n",
        "  </tbody>\n",
        "</table>\n",
        "</div>"
       ],
       "metadata": {},
       "output_type": "pyout",
       "prompt_number": 5,
       "text": [
        "                     car  price  city_mpg  hwy_mpg  trunk_volume  total_cargo\n",
        "0  Honda Fit LX (manual)  15650        29       37          16.6         52.7"
       ]
      }
     ],
     "prompt_number": 5
    },
    {
     "cell_type": "code",
     "collapsed": false,
     "input": [
      "get_car_attribute(test_car_name, 'price')"
     ],
     "language": "python",
     "metadata": {},
     "outputs": [
      {
       "metadata": {},
       "output_type": "pyout",
       "prompt_number": 6,
       "text": [
        "15650"
       ]
      }
     ],
     "prompt_number": 6
    },
    {
     "cell_type": "markdown",
     "metadata": {},
     "source": [
      "### Extract information from function paramaters\n",
      "Functions to get the attribute based on function input parameters.\n",
      "If a value is not provide, get the default value for this attribute."
     ]
    },
    {
     "cell_type": "code",
     "collapsed": false,
     "input": [
      "def extract_value(value, **kw):\n",
      "    if value in kw.keys():\n",
      "        return kw[value]\n",
      "    if value in default_values.keys():\n",
      "        return default_values[value]\n",
      "    return None\n",
      "\n",
      "def get_annual_miles(**kw):\n",
      "    weekday_miles = extract_value('weekday_miles', **kw)\n",
      "    weekend_miles = extract_value('weekend_miles', **kw)\n",
      "    vacation_miles = extract_value('vacation_miles', **kw)\n",
      "\n",
      "    return 50*(5*weekday_miles + weekend_miles) + vacation_miles"
     ],
     "language": "python",
     "metadata": {},
     "outputs": [],
     "prompt_number": 7
    },
    {
     "cell_type": "markdown",
     "metadata": {},
     "source": [
      "#### Briefly test"
     ]
    },
    {
     "cell_type": "code",
     "collapsed": false,
     "input": [
      "extract_value('gas_price')"
     ],
     "language": "python",
     "metadata": {},
     "outputs": [
      {
       "metadata": {},
       "output_type": "pyout",
       "prompt_number": 8,
       "text": [
        "3.0"
       ]
      }
     ],
     "prompt_number": 8
    },
    {
     "cell_type": "code",
     "collapsed": false,
     "input": [
      "extract_value('weekend_miles', weekend_miles=50, dummy=5)"
     ],
     "language": "python",
     "metadata": {},
     "outputs": [
      {
       "metadata": {},
       "output_type": "pyout",
       "prompt_number": 9,
       "text": [
        "50"
       ]
      }
     ],
     "prompt_number": 9
    },
    {
     "cell_type": "markdown",
     "metadata": {},
     "source": [
      "### Calculate average mpg for a given car"
     ]
    },
    {
     "cell_type": "code",
     "collapsed": false,
     "input": [
      "def get_average_mpg(car_name, **kw):\n",
      "    city_fraction = extract_value('city_fraction', **kw)\n",
      "    this_car = get_car(car_name)\n",
      "    shifting_efficiency = extract_value('shifting_efficiency' ,**kw) if 'manual' in car_name.lower() else 1.\n",
      "    return shifting_efficiency*(city_fraction*get_attribute(this_car, 'city_mpg') +\n",
      "                                (1-city_fraction)*get_attribute(this_car, 'hwy_mpg'))"
     ],
     "language": "python",
     "metadata": {},
     "outputs": [],
     "prompt_number": 10
    },
    {
     "cell_type": "markdown",
     "metadata": {},
     "source": [
      "#### Briefly test"
     ]
    },
    {
     "cell_type": "code",
     "collapsed": false,
     "input": [
      "get_average_mpg(test_car_name)"
     ],
     "language": "python",
     "metadata": {},
     "outputs": [
      {
       "metadata": {},
       "output_type": "pyout",
       "prompt_number": 11,
       "text": [
        "29.7"
       ]
      }
     ],
     "prompt_number": 11
    },
    {
     "cell_type": "code",
     "collapsed": false,
     "input": [
      "get_average_mpg(test_car_name, city_fraction=0.8, shifting_efficiency=.9)"
     ],
     "language": "python",
     "metadata": {},
     "outputs": [
      {
       "metadata": {},
       "output_type": "pyout",
       "prompt_number": 12,
       "text": [
        "27.540000000000003"
       ]
      }
     ],
     "prompt_number": 12
    },
    {
     "cell_type": "markdown",
     "metadata": {},
     "source": [
      "### Get the annual cost or gas alone"
     ]
    },
    {
     "cell_type": "code",
     "collapsed": false,
     "input": [
      "def get_annual_gas_cost(car_name, **kw):\n",
      "    gas_price = extract_value('gas_price', **kw)\n",
      "    annual_miles = get_annual_miles(**kw)\n",
      "    average_mpg = get_average_mpg(car_name, **kw)\n",
      "\n",
      "    return gas_price*annual_miles/average_mpg"
     ],
     "language": "python",
     "metadata": {},
     "outputs": [],
     "prompt_number": 13
    },
    {
     "cell_type": "code",
     "collapsed": false,
     "input": [
      "def get_cost_over_duration(car_name, **kw):\n",
      "    car_price = get_car_attribute(car_name, 'price')\n",
      "    annual_gas_cost = get_annual_gas_cost(car_name, **kw)\n",
      "    duration = extract_value('duration', **kw)\n",
      "\n",
      "    return car_price + duration*annual_gas_cost"
     ],
     "language": "python",
     "metadata": {},
     "outputs": [],
     "prompt_number": 14
    },
    {
     "cell_type": "markdown",
     "metadata": {},
     "source": [
      "#### Briefly test"
     ]
    },
    {
     "cell_type": "code",
     "collapsed": false,
     "input": [
      "get_annual_gas_cost(test_car_name)"
     ],
     "language": "python",
     "metadata": {},
     "outputs": [
      {
       "metadata": {},
       "output_type": "pyout",
       "prompt_number": 15,
       "text": [
        "656.5656565656566"
       ]
      }
     ],
     "prompt_number": 15
    },
    {
     "cell_type": "code",
     "collapsed": false,
     "input": [
      "get_annual_gas_cost(test_car_name, weekday_miles=50)"
     ],
     "language": "python",
     "metadata": {},
     "outputs": [
      {
       "metadata": {},
       "output_type": "pyout",
       "prompt_number": 16,
       "text": [
        "1363.6363636363637"
       ]
      }
     ],
     "prompt_number": 16
    },
    {
     "cell_type": "code",
     "collapsed": false,
     "input": [
      "get_cost_over_duration(test_car_name)"
     ],
     "language": "python",
     "metadata": {},
     "outputs": [
      {
       "metadata": {},
       "output_type": "pyout",
       "prompt_number": 17,
       "text": [
        "18932.828282828283"
       ]
      }
     ],
     "prompt_number": 17
    },
    {
     "cell_type": "code",
     "collapsed": false,
     "input": [
      "get_cost_over_duration(test_car_name, duration=10)"
     ],
     "language": "python",
     "metadata": {},
     "outputs": [
      {
       "metadata": {},
       "output_type": "pyout",
       "prompt_number": 18,
       "text": [
        "22215.656565656565"
       ]
      }
     ],
     "prompt_number": 18
    },
    {
     "cell_type": "markdown",
     "metadata": {},
     "source": [
      "### Print information about a single car"
     ]
    },
    {
     "cell_type": "code",
     "collapsed": false,
     "input": [
      "def print_car_info(name, **kw):\n",
      "    this_car = get_car(name)\n",
      "    city_fraction = extract_value('city_fraction', **kw)\n",
      "    average_mpg = get_average_mpg(name, **kw)\n",
      "\n",
      "    \n",
      "    print '-'*40\n",
      "    print get_attribute(this_car, 'car')\n",
      "    print 'Price: ', get_attribute(this_car, 'price')\n",
      "    print 'city mpg: %0.2f, hwy mpg: %0.2f, average mpg (%0.2f city): %0.2f' % (get_attribute(this_car, 'city_mpg'),\n",
      "                                                                                get_attribute(this_car, 'hwy_mpg'),\n",
      "                                                                                city_fraction,\n",
      "                                                                                average_mpg)\n",
      "    print"
     ],
     "language": "python",
     "metadata": {},
     "outputs": [],
     "prompt_number": 19
    },
    {
     "cell_type": "markdown",
     "metadata": {},
     "source": [
      "### Print the price info for a single car"
     ]
    },
    {
     "cell_type": "code",
     "collapsed": false,
     "input": [
      "def print_price_info(name, **kw):\n",
      "    print_car_info(name, **kw)\n",
      "    \n",
      "    gas_price = extract_value('gas_price', **kw)\n",
      "    duration = extract_value('duration', **kw)\n",
      "    annual_gas_cost = get_annual_gas_cost(name, **kw)\n",
      "    cost_over_duration = get_cost_over_duration(name, **kw)\n",
      "    \n",
      "    print 'Annual price of gas ($%0.2f/gal): %0.2f' % (gas_price, annual_gas_cost)\n",
      "    print 'Cost over %0.1f years: $%0.2f' % (duration, cost_over_duration)\n",
      "    print"
     ],
     "language": "python",
     "metadata": {},
     "outputs": [],
     "prompt_number": 20
    },
    {
     "cell_type": "markdown",
     "metadata": {},
     "source": [
      "#### Briefly test"
     ]
    },
    {
     "cell_type": "code",
     "collapsed": false,
     "input": [
      "print_price_info(test_car_name)"
     ],
     "language": "python",
     "metadata": {},
     "outputs": [
      {
       "output_type": "stream",
       "stream": "stdout",
       "text": [
        "----------------------------------------\n",
        "Honda Fit LX (manual)\n",
        "Price:  15650\n",
        "city mpg: 29.00, hwy mpg: 37.00, average mpg (0.50 city): 29.70\n",
        "\n",
        "Annual price of gas ($3.00/gal): 656.57\n",
        "Cost over 5.0 years: $18932.83\n",
        "\n"
       ]
      }
     ],
     "prompt_number": 21
    },
    {
     "cell_type": "markdown",
     "metadata": {},
     "source": [
      "### Compute the difference in cost between two cars"
     ]
    },
    {
     "cell_type": "code",
     "collapsed": false,
     "input": [
      "def cost_difference(car_name_1, car_name_2, **kw):\n",
      "    gas_price = extract_value('gas_price', **kw)\n",
      "    weekday_miles = extract_value('weekday_miles', **kw)\n",
      "    weekend_miles = extract_value('weekend_miles', **kw)\n",
      "    duration = extract_value('duration', **kw)\n",
      "    \n",
      "    price_1 = get_car(car_name_1).iloc[0]['price']\n",
      "    price_2 = get_car(car_name_2).iloc[0]['price']\n",
      "    \n",
      "    gas_cost_1 = duration*get_annual_gas_cost(car_name_1, **kw)\n",
      "    gas_cost_2 = duration*get_annual_gas_cost(car_name_2, **kw)\n",
      "    \n",
      "    total_cost_1 = get_cost_over_duration(car_name_1, **kw)\n",
      "    total_cost_2 = get_cost_over_duration(car_name_2, **kw)\n",
      "\n",
      "    print '-'*40\n",
      "    print 'Estimated gas prices:', gas_price\n",
      "    print 'Miles driven each weekday:', weekday_miles\n",
      "    print 'Miles driven each weekend:', weekend_miles\n",
      "    print 'Duration of interest:', duration\n",
      "    print\n",
      "    \n",
      "    print_price_info(car_name_1, **kw)\n",
      "    print_price_info(car_name_2, **kw)\n",
      "\n",
      "    print '-'*40\n",
      "    print '- Differences are shown as first-second.'\n",
      "    print '- Negative differences mean the first car is less expensive'\n",
      "    print '-'*40\n",
      "    print 'Price difference: %0.2f' % (price_1 - price_2)\n",
      "    print 'Difference in gas cost over duration: %0.2f' % (gas_cost_1 - gas_cost_2)\n",
      "    print 'Total difference in cost over duration: %0.2f' % (total_cost_1 - total_cost_2)"
     ],
     "language": "python",
     "metadata": {},
     "outputs": [],
     "prompt_number": 22
    },
    {
     "cell_type": "markdown",
     "metadata": {},
     "source": [
      "#### Briefly test"
     ]
    },
    {
     "cell_type": "code",
     "collapsed": false,
     "input": [
      "cost_difference(test_car_name, test_car_name_comparison)"
     ],
     "language": "python",
     "metadata": {},
     "outputs": [
      {
       "output_type": "stream",
       "stream": "stdout",
       "text": [
        "----------------------------------------\n",
        "Estimated gas prices: 3.0\n",
        "Miles driven each weekday: 22\n",
        "Miles driven each weekend: 20\n",
        "Duration of interest: 5\n",
        "\n",
        "----------------------------------------\n",
        "Honda Fit LX (manual)\n",
        "Price:  15650\n",
        "city mpg: 29.00, hwy mpg: 37.00, average mpg (0.50 city): 29.70\n",
        "\n",
        "Annual price of gas ($3.00/gal): 656.57\n",
        "Cost over 5.0 years: $18932.83\n",
        "\n",
        "----------------------------------------\n",
        "Honda Fit LX (cvt)\n",
        "Price:  16450\n",
        "city mpg: 33.00, hwy mpg: 41.00, average mpg (0.50 city): 37.00\n",
        "\n",
        "Annual price of gas ($3.00/gal): 527.03\n",
        "Cost over 5.0 years: $19085.14\n",
        "\n",
        "----------------------------------------\n",
        "- Differences are shown as first-second.\n",
        "- Negative differences mean the first car is less expensive\n",
        "----------------------------------------\n",
        "Price difference: -800.00\n",
        "Difference in gas cost over duration: 647.69\n",
        "Total difference in cost over duration: -152.31\n"
       ]
      }
     ],
     "prompt_number": 23
    },
    {
     "cell_type": "code",
     "collapsed": false,
     "input": [
      "cost_difference(test_car_name, test_car_name_comparison, weekday_miles=50, weekend_miles=50)"
     ],
     "language": "python",
     "metadata": {},
     "outputs": [
      {
       "output_type": "stream",
       "stream": "stdout",
       "text": [
        "----------------------------------------\n",
        "Estimated gas prices: 3.0\n",
        "Miles driven each weekday: 50\n",
        "Miles driven each weekend: 50\n",
        "Duration of interest: 5\n",
        "\n",
        "----------------------------------------\n",
        "Honda Fit LX (manual)\n",
        "Price:  15650\n",
        "city mpg: 29.00, hwy mpg: 37.00, average mpg (0.50 city): 29.70\n",
        "\n",
        "Annual price of gas ($3.00/gal): 1515.15\n",
        "Cost over 5.0 years: $23225.76\n",
        "\n",
        "----------------------------------------\n",
        "Honda Fit LX (cvt)\n",
        "Price:  16450\n",
        "city mpg: 33.00, hwy mpg: 41.00, average mpg (0.50 city): 37.00\n",
        "\n",
        "Annual price of gas ($3.00/gal): 1216.22\n",
        "Cost over 5.0 years: $22531.08\n",
        "\n",
        "----------------------------------------\n",
        "- Differences are shown as first-second.\n",
        "- Negative differences mean the first car is less expensive\n",
        "----------------------------------------\n",
        "Price difference: -800.00\n",
        "Difference in gas cost over duration: 1494.68\n",
        "Total difference in cost over duration: 694.68\n"
       ]
      }
     ],
     "prompt_number": 24
    },
    {
     "cell_type": "markdown",
     "metadata": {},
     "source": [
      "### Loop over all cars, and display differences in a table"
     ]
    },
    {
     "cell_type": "code",
     "collapsed": false,
     "input": [
      "def compare_all_cars_table(value_fun, **kw):\n",
      "    num_cars = cars.shape[0]\n",
      "    print cars.shape\n",
      "    \n",
      "    print 'Car Listing:'\n",
      "    print '------------'\n",
      "    for car_it, this_car in enumerate(cars['car']):\n",
      "        print car_it, this_car\n",
      "    print\n",
      "\n",
      "    print '-'*60\n",
      "    print '- Difference in cost divided by $1000 (row - column)'\n",
      "    print '-'*60\n",
      "    print '\\t|',\n",
      "    print '\\t'.join(str(i) for i in xrange(num_cars))\n",
      "    print '-'*9*num_cars\n",
      "\n",
      "    for it_1, car_name_1 in enumerate(cars['car']):\n",
      "        cost_1 = value_fun(car_name_1, **kw)\n",
      "\n",
      "        print it_1, '\\t|',\n",
      "        cost_differences = [(cost_1 -\n",
      "                             value_fun(car_name_2, **kw))/1000.\n",
      "                            for car_name_2 in cars['car']]\n",
      "        print '\\t'.join('%0.1f' % cd for cd in cost_differences)\n"
     ],
     "language": "python",
     "metadata": {},
     "outputs": [],
     "prompt_number": 25
    },
    {
     "cell_type": "code",
     "collapsed": false,
     "input": [
      "def sort_by_cost(value_fun, **kw):\n",
      "    sorted_cars = cars.copy()\n",
      "    sorted_cars['value'] = [value_fun(c, **kw) for c in sorted_cars['car']]\n",
      "    sorted_cars = sorted_cars.sort('value', ascending=True)\n",
      "    \n",
      "    for i, c in enumerate(sorted_cars['car']):\n",
      "        print '%d: %-50s - cost: $%0.2fk' % (i, c,\n",
      "                                             (sorted_cars.iloc[i]['value']/1000.))\n",
      "\n",
      "    return sorted_cars"
     ],
     "language": "python",
     "metadata": {},
     "outputs": [],
     "prompt_number": 26
    },
    {
     "cell_type": "markdown",
     "metadata": {},
     "source": [
      "## Perform comparisons"
     ]
    },
    {
     "cell_type": "markdown",
     "metadata": {},
     "source": [
      "### Total cost over duration for default values"
     ]
    },
    {
     "cell_type": "code",
     "collapsed": false,
     "input": [
      "sort_by_cost(value_fun=get_cost_over_duration)"
     ],
     "language": "python",
     "metadata": {},
     "outputs": [
      {
       "output_type": "stream",
       "stream": "stdout",
       "text": [
        "0: Used Honda Fit                                     - cost: $16.09k\n",
        "1: Ford Fiesta S (manual)                             - cost: $17.75k\n",
        "2: Kia Rio (manual)                                   - cost: $18.20k\n",
        "3: Ford Fiesta S (auto)                               - cost: $18.51k\n",
        "4: Ford Fiesta SE ecoboost (manual)                   - cost: $18.52k\n",
        "5: Honda Fit LX (manual)                              - cost: $18.93k\n",
        "6: Honda Fit LX (cvt)                                 - cost: $19.09k\n",
        "7: Kia Rio (auto)                                     - cost: $19.16k\n"
       ]
      },
      {
       "html": [
        "<div style=\"max-height:1000px;max-width:1500px;overflow:auto;\">\n",
        "<table border=\"1\" class=\"dataframe\">\n",
        "  <thead>\n",
        "    <tr style=\"text-align: right;\">\n",
        "      <th></th>\n",
        "      <th>car</th>\n",
        "      <th>price</th>\n",
        "      <th>city_mpg</th>\n",
        "      <th>hwy_mpg</th>\n",
        "      <th>trunk_volume</th>\n",
        "      <th>total_cargo</th>\n",
        "      <th>value</th>\n",
        "    </tr>\n",
        "  </thead>\n",
        "  <tbody>\n",
        "    <tr>\n",
        "      <th>7</th>\n",
        "      <td>                   Used Honda Fit</td>\n",
        "      <td> 12998</td>\n",
        "      <td> 28</td>\n",
        "      <td> 35</td>\n",
        "      <td> 16.6</td>\n",
        "      <td> 52.7</td>\n",
        "      <td> 16093.238095</td>\n",
        "    </tr>\n",
        "    <tr>\n",
        "      <th>2</th>\n",
        "      <td>           Ford Fiesta S (manual)</td>\n",
        "      <td> 14365</td>\n",
        "      <td> 28</td>\n",
        "      <td> 36</td>\n",
        "      <td> 14.9</td>\n",
        "      <td> 40.3</td>\n",
        "      <td> 17750.416667</td>\n",
        "    </tr>\n",
        "    <tr>\n",
        "      <th>5</th>\n",
        "      <td>                 Kia Rio (manual)</td>\n",
        "      <td> 14815</td>\n",
        "      <td> 27</td>\n",
        "      <td> 37</td>\n",
        "      <td>  0.0</td>\n",
        "      <td>  0.0</td>\n",
        "      <td> 18200.416667</td>\n",
        "    </tr>\n",
        "    <tr>\n",
        "      <th>3</th>\n",
        "      <td>             Ford Fiesta S (auto)</td>\n",
        "      <td> 15460</td>\n",
        "      <td> 27</td>\n",
        "      <td> 37</td>\n",
        "      <td> 14.9</td>\n",
        "      <td> 40.3</td>\n",
        "      <td> 18506.875000</td>\n",
        "    </tr>\n",
        "    <tr>\n",
        "      <th>4</th>\n",
        "      <td> Ford Fiesta SE ecoboost (manual)</td>\n",
        "      <td> 15595</td>\n",
        "      <td> 31</td>\n",
        "      <td> 43</td>\n",
        "      <td> 14.9</td>\n",
        "      <td> 40.3</td>\n",
        "      <td> 18522.927928</td>\n",
        "    </tr>\n",
        "    <tr>\n",
        "      <th>0</th>\n",
        "      <td>            Honda Fit LX (manual)</td>\n",
        "      <td> 15650</td>\n",
        "      <td> 29</td>\n",
        "      <td> 37</td>\n",
        "      <td> 16.6</td>\n",
        "      <td> 52.7</td>\n",
        "      <td> 18932.828283</td>\n",
        "    </tr>\n",
        "    <tr>\n",
        "      <th>1</th>\n",
        "      <td>               Honda Fit LX (cvt)</td>\n",
        "      <td> 16450</td>\n",
        "      <td> 33</td>\n",
        "      <td> 41</td>\n",
        "      <td> 16.6</td>\n",
        "      <td> 52.7</td>\n",
        "      <td> 19085.135135</td>\n",
        "    </tr>\n",
        "    <tr>\n",
        "      <th>6</th>\n",
        "      <td>                   Kia Rio (auto)</td>\n",
        "      <td> 16115</td>\n",
        "      <td> 27</td>\n",
        "      <td> 37</td>\n",
        "      <td>  0.0</td>\n",
        "      <td>  0.0</td>\n",
        "      <td> 19161.875000</td>\n",
        "    </tr>\n",
        "  </tbody>\n",
        "</table>\n",
        "</div>"
       ],
       "metadata": {},
       "output_type": "pyout",
       "prompt_number": 27,
       "text": [
        "                                car  price  city_mpg  hwy_mpg  trunk_volume  \\\n",
        "7                    Used Honda Fit  12998        28       35          16.6   \n",
        "2            Ford Fiesta S (manual)  14365        28       36          14.9   \n",
        "5                  Kia Rio (manual)  14815        27       37           0.0   \n",
        "3              Ford Fiesta S (auto)  15460        27       37          14.9   \n",
        "4  Ford Fiesta SE ecoboost (manual)  15595        31       43          14.9   \n",
        "0             Honda Fit LX (manual)  15650        29       37          16.6   \n",
        "1                Honda Fit LX (cvt)  16450        33       41          16.6   \n",
        "6                    Kia Rio (auto)  16115        27       37           0.0   \n",
        "\n",
        "   total_cargo         value  \n",
        "7         52.7  16093.238095  \n",
        "2         40.3  17750.416667  \n",
        "5          0.0  18200.416667  \n",
        "3         40.3  18506.875000  \n",
        "4         40.3  18522.927928  \n",
        "0         52.7  18932.828283  \n",
        "1         52.7  19085.135135  \n",
        "6          0.0  19161.875000  "
       ]
      }
     ],
     "prompt_number": 27
    },
    {
     "cell_type": "markdown",
     "metadata": {},
     "source": [
      "### Total cost over duration, decreasing shifting efficiency"
     ]
    },
    {
     "cell_type": "code",
     "collapsed": false,
     "input": [
      "sort_by_cost(value_fun=get_cost_over_duration, shifting_efficiency=0.8)"
     ],
     "language": "python",
     "metadata": {},
     "outputs": [
      {
       "output_type": "stream",
       "stream": "stdout",
       "text": [
        "0: Used Honda Fit                                     - cost: $16.09k\n",
        "1: Ford Fiesta S (manual)                             - cost: $18.17k\n",
        "2: Ford Fiesta S (auto)                               - cost: $18.51k\n",
        "3: Kia Rio (manual)                                   - cost: $18.62k\n",
        "4: Ford Fiesta SE ecoboost (manual)                   - cost: $18.89k\n",
        "5: Honda Fit LX (cvt)                                 - cost: $19.09k\n",
        "6: Kia Rio (auto)                                     - cost: $19.16k\n",
        "7: Honda Fit LX (manual)                              - cost: $19.34k\n"
       ]
      },
      {
       "html": [
        "<div style=\"max-height:1000px;max-width:1500px;overflow:auto;\">\n",
        "<table border=\"1\" class=\"dataframe\">\n",
        "  <thead>\n",
        "    <tr style=\"text-align: right;\">\n",
        "      <th></th>\n",
        "      <th>car</th>\n",
        "      <th>price</th>\n",
        "      <th>city_mpg</th>\n",
        "      <th>hwy_mpg</th>\n",
        "      <th>trunk_volume</th>\n",
        "      <th>total_cargo</th>\n",
        "      <th>value</th>\n",
        "    </tr>\n",
        "  </thead>\n",
        "  <tbody>\n",
        "    <tr>\n",
        "      <th>7</th>\n",
        "      <td>                   Used Honda Fit</td>\n",
        "      <td> 12998</td>\n",
        "      <td> 28</td>\n",
        "      <td> 35</td>\n",
        "      <td> 16.6</td>\n",
        "      <td> 52.7</td>\n",
        "      <td> 16093.238095</td>\n",
        "    </tr>\n",
        "    <tr>\n",
        "      <th>2</th>\n",
        "      <td>           Ford Fiesta S (manual)</td>\n",
        "      <td> 14365</td>\n",
        "      <td> 28</td>\n",
        "      <td> 36</td>\n",
        "      <td> 14.9</td>\n",
        "      <td> 40.3</td>\n",
        "      <td> 18173.593750</td>\n",
        "    </tr>\n",
        "    <tr>\n",
        "      <th>3</th>\n",
        "      <td>             Ford Fiesta S (auto)</td>\n",
        "      <td> 15460</td>\n",
        "      <td> 27</td>\n",
        "      <td> 37</td>\n",
        "      <td> 14.9</td>\n",
        "      <td> 40.3</td>\n",
        "      <td> 18506.875000</td>\n",
        "    </tr>\n",
        "    <tr>\n",
        "      <th>5</th>\n",
        "      <td>                 Kia Rio (manual)</td>\n",
        "      <td> 14815</td>\n",
        "      <td> 27</td>\n",
        "      <td> 37</td>\n",
        "      <td>  0.0</td>\n",
        "      <td>  0.0</td>\n",
        "      <td> 18623.593750</td>\n",
        "    </tr>\n",
        "    <tr>\n",
        "      <th>4</th>\n",
        "      <td> Ford Fiesta SE ecoboost (manual)</td>\n",
        "      <td> 15595</td>\n",
        "      <td> 31</td>\n",
        "      <td> 43</td>\n",
        "      <td> 14.9</td>\n",
        "      <td> 40.3</td>\n",
        "      <td> 18888.918919</td>\n",
        "    </tr>\n",
        "    <tr>\n",
        "      <th>1</th>\n",
        "      <td>               Honda Fit LX (cvt)</td>\n",
        "      <td> 16450</td>\n",
        "      <td> 33</td>\n",
        "      <td> 41</td>\n",
        "      <td> 16.6</td>\n",
        "      <td> 52.7</td>\n",
        "      <td> 19085.135135</td>\n",
        "    </tr>\n",
        "    <tr>\n",
        "      <th>6</th>\n",
        "      <td>                   Kia Rio (auto)</td>\n",
        "      <td> 16115</td>\n",
        "      <td> 27</td>\n",
        "      <td> 37</td>\n",
        "      <td>  0.0</td>\n",
        "      <td>  0.0</td>\n",
        "      <td> 19161.875000</td>\n",
        "    </tr>\n",
        "    <tr>\n",
        "      <th>0</th>\n",
        "      <td>            Honda Fit LX (manual)</td>\n",
        "      <td> 15650</td>\n",
        "      <td> 29</td>\n",
        "      <td> 37</td>\n",
        "      <td> 16.6</td>\n",
        "      <td> 52.7</td>\n",
        "      <td> 19343.181818</td>\n",
        "    </tr>\n",
        "  </tbody>\n",
        "</table>\n",
        "</div>"
       ],
       "metadata": {},
       "output_type": "pyout",
       "prompt_number": 28,
       "text": [
        "                                car  price  city_mpg  hwy_mpg  trunk_volume  \\\n",
        "7                    Used Honda Fit  12998        28       35          16.6   \n",
        "2            Ford Fiesta S (manual)  14365        28       36          14.9   \n",
        "3              Ford Fiesta S (auto)  15460        27       37          14.9   \n",
        "5                  Kia Rio (manual)  14815        27       37           0.0   \n",
        "4  Ford Fiesta SE ecoboost (manual)  15595        31       43          14.9   \n",
        "1                Honda Fit LX (cvt)  16450        33       41          16.6   \n",
        "6                    Kia Rio (auto)  16115        27       37           0.0   \n",
        "0             Honda Fit LX (manual)  15650        29       37          16.6   \n",
        "\n",
        "   total_cargo         value  \n",
        "7         52.7  16093.238095  \n",
        "2         40.3  18173.593750  \n",
        "3         40.3  18506.875000  \n",
        "5          0.0  18623.593750  \n",
        "4         40.3  18888.918919  \n",
        "1         52.7  19085.135135  \n",
        "6          0.0  19161.875000  \n",
        "0         52.7  19343.181818  "
       ]
      }
     ],
     "prompt_number": 28
    },
    {
     "cell_type": "markdown",
     "metadata": {},
     "source": [
      "### Total cost over duration, increasing shifting efficiency"
     ]
    },
    {
     "cell_type": "code",
     "collapsed": false,
     "input": [
      "sort_by_cost(value_fun=get_cost_over_duration, shifting_efficiency=1.)"
     ],
     "language": "python",
     "metadata": {},
     "outputs": [
      {
       "output_type": "stream",
       "stream": "stdout",
       "text": [
        "0: Used Honda Fit                                     - cost: $16.09k\n",
        "1: Ford Fiesta S (manual)                             - cost: $17.41k\n",
        "2: Kia Rio (manual)                                   - cost: $17.86k\n",
        "3: Ford Fiesta SE ecoboost (manual)                   - cost: $18.23k\n",
        "4: Ford Fiesta S (auto)                               - cost: $18.51k\n",
        "5: Honda Fit LX (manual)                              - cost: $18.60k\n",
        "6: Honda Fit LX (cvt)                                 - cost: $19.09k\n",
        "7: Kia Rio (auto)                                     - cost: $19.16k\n"
       ]
      },
      {
       "html": [
        "<div style=\"max-height:1000px;max-width:1500px;overflow:auto;\">\n",
        "<table border=\"1\" class=\"dataframe\">\n",
        "  <thead>\n",
        "    <tr style=\"text-align: right;\">\n",
        "      <th></th>\n",
        "      <th>car</th>\n",
        "      <th>price</th>\n",
        "      <th>city_mpg</th>\n",
        "      <th>hwy_mpg</th>\n",
        "      <th>trunk_volume</th>\n",
        "      <th>total_cargo</th>\n",
        "      <th>value</th>\n",
        "    </tr>\n",
        "  </thead>\n",
        "  <tbody>\n",
        "    <tr>\n",
        "      <th>7</th>\n",
        "      <td>                   Used Honda Fit</td>\n",
        "      <td> 12998</td>\n",
        "      <td> 28</td>\n",
        "      <td> 35</td>\n",
        "      <td> 16.6</td>\n",
        "      <td> 52.7</td>\n",
        "      <td> 16093.238095</td>\n",
        "    </tr>\n",
        "    <tr>\n",
        "      <th>2</th>\n",
        "      <td>           Ford Fiesta S (manual)</td>\n",
        "      <td> 14365</td>\n",
        "      <td> 28</td>\n",
        "      <td> 36</td>\n",
        "      <td> 14.9</td>\n",
        "      <td> 40.3</td>\n",
        "      <td> 17411.875000</td>\n",
        "    </tr>\n",
        "    <tr>\n",
        "      <th>5</th>\n",
        "      <td>                 Kia Rio (manual)</td>\n",
        "      <td> 14815</td>\n",
        "      <td> 27</td>\n",
        "      <td> 37</td>\n",
        "      <td>  0.0</td>\n",
        "      <td>  0.0</td>\n",
        "      <td> 17861.875000</td>\n",
        "    </tr>\n",
        "    <tr>\n",
        "      <th>4</th>\n",
        "      <td> Ford Fiesta SE ecoboost (manual)</td>\n",
        "      <td> 15595</td>\n",
        "      <td> 31</td>\n",
        "      <td> 43</td>\n",
        "      <td> 14.9</td>\n",
        "      <td> 40.3</td>\n",
        "      <td> 18230.135135</td>\n",
        "    </tr>\n",
        "    <tr>\n",
        "      <th>3</th>\n",
        "      <td>             Ford Fiesta S (auto)</td>\n",
        "      <td> 15460</td>\n",
        "      <td> 27</td>\n",
        "      <td> 37</td>\n",
        "      <td> 14.9</td>\n",
        "      <td> 40.3</td>\n",
        "      <td> 18506.875000</td>\n",
        "    </tr>\n",
        "    <tr>\n",
        "      <th>0</th>\n",
        "      <td>            Honda Fit LX (manual)</td>\n",
        "      <td> 15650</td>\n",
        "      <td> 29</td>\n",
        "      <td> 37</td>\n",
        "      <td> 16.6</td>\n",
        "      <td> 52.7</td>\n",
        "      <td> 18604.545455</td>\n",
        "    </tr>\n",
        "    <tr>\n",
        "      <th>1</th>\n",
        "      <td>               Honda Fit LX (cvt)</td>\n",
        "      <td> 16450</td>\n",
        "      <td> 33</td>\n",
        "      <td> 41</td>\n",
        "      <td> 16.6</td>\n",
        "      <td> 52.7</td>\n",
        "      <td> 19085.135135</td>\n",
        "    </tr>\n",
        "    <tr>\n",
        "      <th>6</th>\n",
        "      <td>                   Kia Rio (auto)</td>\n",
        "      <td> 16115</td>\n",
        "      <td> 27</td>\n",
        "      <td> 37</td>\n",
        "      <td>  0.0</td>\n",
        "      <td>  0.0</td>\n",
        "      <td> 19161.875000</td>\n",
        "    </tr>\n",
        "  </tbody>\n",
        "</table>\n",
        "</div>"
       ],
       "metadata": {},
       "output_type": "pyout",
       "prompt_number": 29,
       "text": [
        "                                car  price  city_mpg  hwy_mpg  trunk_volume  \\\n",
        "7                    Used Honda Fit  12998        28       35          16.6   \n",
        "2            Ford Fiesta S (manual)  14365        28       36          14.9   \n",
        "5                  Kia Rio (manual)  14815        27       37           0.0   \n",
        "4  Ford Fiesta SE ecoboost (manual)  15595        31       43          14.9   \n",
        "3              Ford Fiesta S (auto)  15460        27       37          14.9   \n",
        "0             Honda Fit LX (manual)  15650        29       37          16.6   \n",
        "1                Honda Fit LX (cvt)  16450        33       41          16.6   \n",
        "6                    Kia Rio (auto)  16115        27       37           0.0   \n",
        "\n",
        "   total_cargo         value  \n",
        "7         52.7  16093.238095  \n",
        "2         40.3  17411.875000  \n",
        "5          0.0  17861.875000  \n",
        "4         40.3  18230.135135  \n",
        "3         40.3  18506.875000  \n",
        "0         52.7  18604.545455  \n",
        "1         52.7  19085.135135  \n",
        "6          0.0  19161.875000  "
       ]
      }
     ],
     "prompt_number": 29
    },
    {
     "cell_type": "markdown",
     "metadata": {},
     "source": [
      "### Difference matrix for total the total cost"
     ]
    },
    {
     "cell_type": "code",
     "collapsed": false,
     "input": [
      "compare_all_cars_table(value_fun=get_cost_over_duration)"
     ],
     "language": "python",
     "metadata": {},
     "outputs": [
      {
       "output_type": "stream",
       "stream": "stdout",
       "text": [
        "(8, 6)\n",
        "Car Listing:\n",
        "------------\n",
        "0 Honda Fit LX (manual)\n",
        "1 Honda Fit LX (cvt)\n",
        "2 Ford Fiesta S (manual)\n",
        "3 Ford Fiesta S (auto)\n",
        "4 Ford Fiesta SE ecoboost (manual)\n",
        "5 Kia Rio (manual)\n",
        "6 Kia Rio (auto)\n",
        "7 Used Honda Fit\n",
        "\n",
        "------------------------------------------------------------\n",
        "- Difference in cost divided by $1000 (row - column)\n",
        "------------------------------------------------------------\n",
        "\t| 0\t1\t2\t3\t4\t5\t6\t7\n",
        "------------------------------------------------------------------------\n",
        "0 \t| 0.0\t-0.2\t1.2\t0.4\t0.4\t0.7\t-0.2\t2.8\n",
        "1 \t| 0.2\t0.0\t1.3\t0.6\t0.6\t0.9\t-0.1\t3.0\n",
        "2"
       ]
      },
      {
       "output_type": "stream",
       "stream": "stdout",
       "text": [
        " \t| -1.2\t-1.3\t0.0\t-0.8\t-0.8\t-0.5\t-1.4\t1.7\n",
        "3 \t| -0.4\t-0.6\t0.8\t0.0\t-0.0\t0.3\t-0.7\t2.4\n",
        "4 \t| "
       ]
      },
      {
       "output_type": "stream",
       "stream": "stdout",
       "text": [
        "-0.4\t-0.6\t0.8\t0.0\t0.0\t0.3\t-0.6\t2.4\n",
        "5 \t| -0.7\t-0.9\t0.5\t-0.3\t-0.3\t0.0\t-1.0\t2.1\n",
        "6 \t| 0.2\t0.1\t1.4\t0.7\t0.6\t1.0\t0.0\t3.1\n",
        "7 \t| "
       ]
      },
      {
       "output_type": "stream",
       "stream": "stdout",
       "text": [
        "-2.8\t-3.0\t-1.7\t-2.4\t-2.4\t-2.1\t-3.1\t0.0\n"
       ]
      }
     ],
     "prompt_number": 30
    }
   ],
   "metadata": {}
  }
 ]
}